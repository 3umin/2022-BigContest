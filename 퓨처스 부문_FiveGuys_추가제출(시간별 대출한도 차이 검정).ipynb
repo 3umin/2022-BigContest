{
 "cells": [
  {
   "cell_type": "markdown",
   "id": "facce723",
   "metadata": {},
   "source": [
    "## 대출 데이터 불러오기"
   ]
  },
  {
   "cell_type": "code",
   "execution_count": null,
   "id": "31b708d7",
   "metadata": {},
   "outputs": [],
   "source": [
    "import pandas as pd\n",
    "result = pd.read_csv(\"C:/Users/123/Desktop/data/loan_result.csv\")\n",
    "result.head(3)"
   ]
  },
  {
   "cell_type": "markdown",
   "id": "a74745e1",
   "metadata": {},
   "source": [
    "## 대출 결측치 개수 확인"
   ]
  },
  {
   "cell_type": "code",
   "execution_count": 2,
   "id": "d0beadeb",
   "metadata": {},
   "outputs": [
    {
     "data": {
      "text/plain": [
       "application_id                 0\n",
       "loanapply_insert_time          0\n",
       "bank_id                        0\n",
       "product_id                     0\n",
       "loan_limit                  7495\n",
       "loan_rate                   7495\n",
       "is_applied               3257239\n",
       "dtype: int64"
      ]
     },
     "execution_count": 2,
     "metadata": {},
     "output_type": "execute_result"
    }
   ],
   "source": [
    "result.isna().sum()"
   ]
  },
  {
   "cell_type": "markdown",
   "id": "c316e7f2",
   "metadata": {},
   "source": [
    "### 대출 칼럼 확인"
   ]
  },
  {
   "cell_type": "code",
   "execution_count": 3,
   "id": "2699b273",
   "metadata": {},
   "outputs": [
    {
     "name": "stdout",
     "output_type": "stream",
     "text": [
      "<class 'pandas.core.frame.DataFrame'>\n",
      "RangeIndex: 13527363 entries, 0 to 13527362\n",
      "Data columns (total 7 columns):\n",
      " #   Column                 Dtype  \n",
      "---  ------                 -----  \n",
      " 0   application_id         int64  \n",
      " 1   loanapply_insert_time  object \n",
      " 2   bank_id                int64  \n",
      " 3   product_id             int64  \n",
      " 4   loan_limit             float64\n",
      " 5   loan_rate              float64\n",
      " 6   is_applied             float64\n",
      "dtypes: float64(3), int64(3), object(1)\n",
      "memory usage: 722.4+ MB\n"
     ]
    }
   ],
   "source": [
    "result.info()"
   ]
  },
  {
   "cell_type": "markdown",
   "id": "9da3fcb9",
   "metadata": {},
   "source": [
    "### 대출적용 시간 datetime으로 변환"
   ]
  },
  {
   "cell_type": "code",
   "execution_count": 4,
   "id": "7f0d1ca3",
   "metadata": {},
   "outputs": [
    {
     "data": {
      "text/html": [
       "<div>\n",
       "<style scoped>\n",
       "    .dataframe tbody tr th:only-of-type {\n",
       "        vertical-align: middle;\n",
       "    }\n",
       "\n",
       "    .dataframe tbody tr th {\n",
       "        vertical-align: top;\n",
       "    }\n",
       "\n",
       "    .dataframe thead th {\n",
       "        text-align: right;\n",
       "    }\n",
       "</style>\n",
       "<table border=\"1\" class=\"dataframe\">\n",
       "  <thead>\n",
       "    <tr style=\"text-align: right;\">\n",
       "      <th></th>\n",
       "      <th>application_id</th>\n",
       "      <th>loanapply_insert_time</th>\n",
       "      <th>bank_id</th>\n",
       "      <th>product_id</th>\n",
       "      <th>loan_limit</th>\n",
       "      <th>loan_rate</th>\n",
       "      <th>is_applied</th>\n",
       "    </tr>\n",
       "  </thead>\n",
       "  <tbody>\n",
       "    <tr>\n",
       "      <th>0</th>\n",
       "      <td>1748340</td>\n",
       "      <td>2022-06-07 13:05:41</td>\n",
       "      <td>7</td>\n",
       "      <td>191</td>\n",
       "      <td>42000000.0</td>\n",
       "      <td>13.6</td>\n",
       "      <td>NaN</td>\n",
       "    </tr>\n",
       "    <tr>\n",
       "      <th>1</th>\n",
       "      <td>1748340</td>\n",
       "      <td>2022-06-07 13:05:41</td>\n",
       "      <td>25</td>\n",
       "      <td>169</td>\n",
       "      <td>24000000.0</td>\n",
       "      <td>17.9</td>\n",
       "      <td>NaN</td>\n",
       "    </tr>\n",
       "    <tr>\n",
       "      <th>2</th>\n",
       "      <td>1748340</td>\n",
       "      <td>2022-06-07 13:05:41</td>\n",
       "      <td>2</td>\n",
       "      <td>7</td>\n",
       "      <td>24000000.0</td>\n",
       "      <td>18.5</td>\n",
       "      <td>NaN</td>\n",
       "    </tr>\n",
       "    <tr>\n",
       "      <th>3</th>\n",
       "      <td>1748340</td>\n",
       "      <td>2022-06-07 13:05:41</td>\n",
       "      <td>4</td>\n",
       "      <td>268</td>\n",
       "      <td>29000000.0</td>\n",
       "      <td>10.8</td>\n",
       "      <td>NaN</td>\n",
       "    </tr>\n",
       "    <tr>\n",
       "      <th>4</th>\n",
       "      <td>1748340</td>\n",
       "      <td>2022-06-07 13:05:41</td>\n",
       "      <td>11</td>\n",
       "      <td>118</td>\n",
       "      <td>5000000.0</td>\n",
       "      <td>16.4</td>\n",
       "      <td>NaN</td>\n",
       "    </tr>\n",
       "    <tr>\n",
       "      <th>5</th>\n",
       "      <td>1748340</td>\n",
       "      <td>2022-06-07 13:05:40</td>\n",
       "      <td>35</td>\n",
       "      <td>168</td>\n",
       "      <td>21000000.0</td>\n",
       "      <td>15.2</td>\n",
       "      <td>NaN</td>\n",
       "    </tr>\n",
       "    <tr>\n",
       "      <th>6</th>\n",
       "      <td>1748340</td>\n",
       "      <td>2022-06-07 13:05:40</td>\n",
       "      <td>44</td>\n",
       "      <td>8</td>\n",
       "      <td>3000000.0</td>\n",
       "      <td>14.8</td>\n",
       "      <td>NaN</td>\n",
       "    </tr>\n",
       "    <tr>\n",
       "      <th>7</th>\n",
       "      <td>1748340</td>\n",
       "      <td>2022-06-07 13:05:41</td>\n",
       "      <td>28</td>\n",
       "      <td>217</td>\n",
       "      <td>10000000.0</td>\n",
       "      <td>18.0</td>\n",
       "      <td>NaN</td>\n",
       "    </tr>\n",
       "    <tr>\n",
       "      <th>8</th>\n",
       "      <td>1748340</td>\n",
       "      <td>2022-06-07 13:05:46</td>\n",
       "      <td>47</td>\n",
       "      <td>181</td>\n",
       "      <td>31000000.0</td>\n",
       "      <td>13.0</td>\n",
       "      <td>NaN</td>\n",
       "    </tr>\n",
       "    <tr>\n",
       "      <th>9</th>\n",
       "      <td>1748340</td>\n",
       "      <td>2022-06-07 13:05:51</td>\n",
       "      <td>11</td>\n",
       "      <td>170</td>\n",
       "      <td>50000000.0</td>\n",
       "      <td>13.3</td>\n",
       "      <td>NaN</td>\n",
       "    </tr>\n",
       "  </tbody>\n",
       "</table>\n",
       "</div>"
      ],
      "text/plain": [
       "   application_id loanapply_insert_time  bank_id  product_id  loan_limit  \\\n",
       "0         1748340   2022-06-07 13:05:41        7         191  42000000.0   \n",
       "1         1748340   2022-06-07 13:05:41       25         169  24000000.0   \n",
       "2         1748340   2022-06-07 13:05:41        2           7  24000000.0   \n",
       "3         1748340   2022-06-07 13:05:41        4         268  29000000.0   \n",
       "4         1748340   2022-06-07 13:05:41       11         118   5000000.0   \n",
       "5         1748340   2022-06-07 13:05:40       35         168  21000000.0   \n",
       "6         1748340   2022-06-07 13:05:40       44           8   3000000.0   \n",
       "7         1748340   2022-06-07 13:05:41       28         217  10000000.0   \n",
       "8         1748340   2022-06-07 13:05:46       47         181  31000000.0   \n",
       "9         1748340   2022-06-07 13:05:51       11         170  50000000.0   \n",
       "\n",
       "   loan_rate  is_applied  \n",
       "0       13.6         NaN  \n",
       "1       17.9         NaN  \n",
       "2       18.5         NaN  \n",
       "3       10.8         NaN  \n",
       "4       16.4         NaN  \n",
       "5       15.2         NaN  \n",
       "6       14.8         NaN  \n",
       "7       18.0         NaN  \n",
       "8       13.0         NaN  \n",
       "9       13.3         NaN  "
      ]
     },
     "execution_count": 4,
     "metadata": {},
     "output_type": "execute_result"
    }
   ],
   "source": [
    "# loanapply_insert_time (object -> datetime 변환)\n",
    "import pandas as pd\n",
    "result['loanapply_insert_time'] = pd.to_datetime(result['loanapply_insert_time'])\n",
    "result.head(10)"
   ]
  },
  {
   "cell_type": "code",
   "execution_count": 5,
   "id": "60a7c3c2",
   "metadata": {},
   "outputs": [
    {
     "name": "stdout",
     "output_type": "stream",
     "text": [
      "<class 'pandas.core.series.Series'>\n",
      "RangeIndex: 13527363 entries, 0 to 13527362\n",
      "Series name: loanapply_insert_time\n",
      "Non-Null Count     Dtype         \n",
      "--------------     -----         \n",
      "13527363 non-null  datetime64[ns]\n",
      "dtypes: datetime64[ns](1)\n",
      "memory usage: 103.2 MB\n"
     ]
    }
   ],
   "source": [
    "result['loanapply_insert_time'].info()"
   ]
  },
  {
   "cell_type": "markdown",
   "id": "dc59ff45",
   "metadata": {},
   "source": [
    "## application_id 와 loanapply_insert_time 으로 정렬"
   ]
  },
  {
   "cell_type": "code",
   "execution_count": 6,
   "id": "a7aa70a2",
   "metadata": {},
   "outputs": [
    {
     "data": {
      "text/html": [
       "<div>\n",
       "<style scoped>\n",
       "    .dataframe tbody tr th:only-of-type {\n",
       "        vertical-align: middle;\n",
       "    }\n",
       "\n",
       "    .dataframe tbody tr th {\n",
       "        vertical-align: top;\n",
       "    }\n",
       "\n",
       "    .dataframe thead th {\n",
       "        text-align: right;\n",
       "    }\n",
       "</style>\n",
       "<table border=\"1\" class=\"dataframe\">\n",
       "  <thead>\n",
       "    <tr style=\"text-align: right;\">\n",
       "      <th></th>\n",
       "      <th>application_id</th>\n",
       "      <th>loanapply_insert_time</th>\n",
       "      <th>bank_id</th>\n",
       "      <th>product_id</th>\n",
       "      <th>loan_limit</th>\n",
       "      <th>loan_rate</th>\n",
       "      <th>is_applied</th>\n",
       "    </tr>\n",
       "  </thead>\n",
       "  <tbody>\n",
       "    <tr>\n",
       "      <th>10972632</th>\n",
       "      <td>1</td>\n",
       "      <td>2022-05-06 11:05:42</td>\n",
       "      <td>59</td>\n",
       "      <td>150</td>\n",
       "      <td>19000000.0</td>\n",
       "      <td>17.7</td>\n",
       "      <td>0.0</td>\n",
       "    </tr>\n",
       "    <tr>\n",
       "      <th>10972629</th>\n",
       "      <td>1</td>\n",
       "      <td>2022-05-06 11:05:43</td>\n",
       "      <td>38</td>\n",
       "      <td>223</td>\n",
       "      <td>19000000.0</td>\n",
       "      <td>17.1</td>\n",
       "      <td>0.0</td>\n",
       "    </tr>\n",
       "    <tr>\n",
       "      <th>10972631</th>\n",
       "      <td>1</td>\n",
       "      <td>2022-05-06 11:05:43</td>\n",
       "      <td>50</td>\n",
       "      <td>142</td>\n",
       "      <td>18000000.0</td>\n",
       "      <td>19.9</td>\n",
       "      <td>0.0</td>\n",
       "    </tr>\n",
       "    <tr>\n",
       "      <th>10972630</th>\n",
       "      <td>1</td>\n",
       "      <td>2022-05-06 11:05:44</td>\n",
       "      <td>37</td>\n",
       "      <td>206</td>\n",
       "      <td>32000000.0</td>\n",
       "      <td>18.9</td>\n",
       "      <td>0.0</td>\n",
       "    </tr>\n",
       "    <tr>\n",
       "      <th>10972628</th>\n",
       "      <td>1</td>\n",
       "      <td>2022-05-06 11:05:56</td>\n",
       "      <td>38</td>\n",
       "      <td>16</td>\n",
       "      <td>19000000.0</td>\n",
       "      <td>17.1</td>\n",
       "      <td>0.0</td>\n",
       "    </tr>\n",
       "    <tr>\n",
       "      <th>10972627</th>\n",
       "      <td>1</td>\n",
       "      <td>2022-05-06 11:05:57</td>\n",
       "      <td>62</td>\n",
       "      <td>200</td>\n",
       "      <td>8000000.0</td>\n",
       "      <td>14.8</td>\n",
       "      <td>0.0</td>\n",
       "    </tr>\n",
       "    <tr>\n",
       "      <th>7334795</th>\n",
       "      <td>2</td>\n",
       "      <td>2022-04-13 10:58:41</td>\n",
       "      <td>62</td>\n",
       "      <td>200</td>\n",
       "      <td>15000000.0</td>\n",
       "      <td>9.3</td>\n",
       "      <td>0.0</td>\n",
       "    </tr>\n",
       "    <tr>\n",
       "      <th>8356349</th>\n",
       "      <td>4</td>\n",
       "      <td>2022-06-20 10:24:38</td>\n",
       "      <td>7</td>\n",
       "      <td>220</td>\n",
       "      <td>10000000.0</td>\n",
       "      <td>11.4</td>\n",
       "      <td>NaN</td>\n",
       "    </tr>\n",
       "    <tr>\n",
       "      <th>8356360</th>\n",
       "      <td>4</td>\n",
       "      <td>2022-06-20 10:24:38</td>\n",
       "      <td>7</td>\n",
       "      <td>191</td>\n",
       "      <td>26000000.0</td>\n",
       "      <td>11.4</td>\n",
       "      <td>NaN</td>\n",
       "    </tr>\n",
       "    <tr>\n",
       "      <th>11912958</th>\n",
       "      <td>6</td>\n",
       "      <td>2022-04-26 02:02:44</td>\n",
       "      <td>59</td>\n",
       "      <td>150</td>\n",
       "      <td>19000000.0</td>\n",
       "      <td>14.0</td>\n",
       "      <td>0.0</td>\n",
       "    </tr>\n",
       "  </tbody>\n",
       "</table>\n",
       "</div>"
      ],
      "text/plain": [
       "          application_id loanapply_insert_time  bank_id  product_id  \\\n",
       "10972632               1   2022-05-06 11:05:42       59         150   \n",
       "10972629               1   2022-05-06 11:05:43       38         223   \n",
       "10972631               1   2022-05-06 11:05:43       50         142   \n",
       "10972630               1   2022-05-06 11:05:44       37         206   \n",
       "10972628               1   2022-05-06 11:05:56       38          16   \n",
       "10972627               1   2022-05-06 11:05:57       62         200   \n",
       "7334795                2   2022-04-13 10:58:41       62         200   \n",
       "8356349                4   2022-06-20 10:24:38        7         220   \n",
       "8356360                4   2022-06-20 10:24:38        7         191   \n",
       "11912958               6   2022-04-26 02:02:44       59         150   \n",
       "\n",
       "          loan_limit  loan_rate  is_applied  \n",
       "10972632  19000000.0       17.7         0.0  \n",
       "10972629  19000000.0       17.1         0.0  \n",
       "10972631  18000000.0       19.9         0.0  \n",
       "10972630  32000000.0       18.9         0.0  \n",
       "10972628  19000000.0       17.1         0.0  \n",
       "10972627   8000000.0       14.8         0.0  \n",
       "7334795   15000000.0        9.3         0.0  \n",
       "8356349   10000000.0       11.4         NaN  \n",
       "8356360   26000000.0       11.4         NaN  \n",
       "11912958  19000000.0       14.0         0.0  "
      ]
     },
     "execution_count": 6,
     "metadata": {},
     "output_type": "execute_result"
    }
   ],
   "source": [
    "result_sorted = result.sort_values(by=['application_id','loanapply_insert_time'],ascending=True)\n",
    "result_sorted.head(10)"
   ]
  },
  {
   "cell_type": "markdown",
   "id": "44cd3877",
   "metadata": {},
   "source": [
    "### 한도조회 일시 시간 나누기 (24시간을 6시간으로 나누기 0시부터 6시 , 6시부터 12시, 12시부터 18시, 18시부터 24시)"
   ]
  },
  {
   "cell_type": "code",
   "execution_count": 7,
   "id": "d9fa88cf",
   "metadata": {},
   "outputs": [
    {
     "name": "stdout",
     "output_type": "stream",
     "text": [
      "930032\n",
      "4178599\n",
      "5258354\n",
      "3160378\n"
     ]
    }
   ],
   "source": [
    "result_insert_time  = result.set_index('loanapply_insert_time')\n",
    "\n",
    "result_insert_time_range_0to6 = result_insert_time[(pd.DatetimeIndex(result_insert_time.index).hour >=0) & (pd.DatetimeIndex(result_insert_time.index).hour <6)]\n",
    "print(len(result_insert_time_range_0to6))\n",
    "result_insert_time_range_6to12 = result_insert_time[(pd.DatetimeIndex(result_insert_time.index).hour >=6) & (pd.DatetimeIndex(result_insert_time.index).hour <12)]\n",
    "print(len(result_insert_time_range_6to12))\n",
    "result_insert_time_range_12to18 = result_insert_time[(pd.DatetimeIndex(result_insert_time.index).hour >=12) & (pd.DatetimeIndex(result_insert_time.index).hour <18)]\n",
    "print(len(result_insert_time_range_12to18))\n",
    "result_insert_time_range_18to24 = result_insert_time[(pd.DatetimeIndex(result_insert_time.index).hour >=18) & (pd.DatetimeIndex(result_insert_time.index).hour <24)]\n",
    "print(len(result_insert_time_range_18to24))"
   ]
  },
  {
   "cell_type": "code",
   "execution_count": 8,
   "id": "25636c55",
   "metadata": {},
   "outputs": [
    {
     "data": {
      "text/plain": [
       "application_id    0\n",
       "bank_id           0\n",
       "product_id        0\n",
       "loan_limit        0\n",
       "loan_rate         0\n",
       "dtype: int64"
      ]
     },
     "execution_count": 8,
     "metadata": {},
     "output_type": "execute_result"
    }
   ],
   "source": [
    "data1=result_insert_time_range_0to6.iloc[:,[0,1,2,3,4]]\n",
    "data1=data1.dropna(axis=0)\n",
    "\n",
    "data2=result_insert_time_range_6to12.iloc[:,[0,1,2,3,4]]\n",
    "data2=data2.dropna(axis=0)\n",
    "data2.isna().sum()\n",
    "\n",
    "data3=result_insert_time_range_12to18.iloc[:,[0,1,2,3,4]]\n",
    "data3=data3.dropna(axis=0)\n",
    "data3.isna().sum()\n",
    "\n",
    "data4=result_insert_time_range_18to24.iloc[:,[0,1,2,3,4]]\n",
    "data4=data4.dropna(axis=0)\n",
    "data4.isna().sum()"
   ]
  },
  {
   "cell_type": "markdown",
   "id": "fd866140",
   "metadata": {},
   "source": [
    "### 각 시간대별로 나눈 데이터 그룹 부여"
   ]
  },
  {
   "cell_type": "code",
   "execution_count": 9,
   "id": "3eed42e9",
   "metadata": {},
   "outputs": [],
   "source": [
    "data1['var']=1\n",
    "data2['var']=2\n",
    "data3['var']=3\n",
    "data4['var']=4"
   ]
  },
  {
   "cell_type": "markdown",
   "id": "03dfe5ec",
   "metadata": {},
   "source": [
    "## 각 집단별로 대출한도 평균 차이 검정(tukey)"
   ]
  },
  {
   "cell_type": "code",
   "execution_count": 10,
   "id": "9a18436b",
   "metadata": {},
   "outputs": [
    {
     "name": "stdout",
     "output_type": "stream",
     "text": [
      "F=102.6, p=0.00000\n"
     ]
    }
   ],
   "source": [
    "import scipy.stats as stats\n",
    "import numpy as np\n",
    "F_statistic, pVal = stats.f_oneway(data1['loan_limit'],data2['loan_limit'],data3['loan_limit'],data4['loan_limit'])\n",
    "print('F={0:.1f}, p={1:.5f}'.format(F_statistic,pVal))"
   ]
  },
  {
   "cell_type": "markdown",
   "id": "b3501d4e",
   "metadata": {},
   "source": [
    "#### F=102.6 이고 p=0.00000 이므로 집단별로 평균 차이가 있다고 판단 가능"
   ]
  },
  {
   "cell_type": "markdown",
   "id": "150ec3d3",
   "metadata": {},
   "source": [
    "### 2번 그룹과 3번 그룹의 차이가 없는 것 제외하고 나머지 그룹 간에는 차이가 있다고 판단."
   ]
  },
  {
   "cell_type": "code",
   "execution_count": 11,
   "id": "a2f06c69",
   "metadata": {},
   "outputs": [
    {
     "name": "stdout",
     "output_type": "stream",
     "text": [
      "       Multiple Comparison of Means - Tukey HSD, FWER=0.05        \n",
      "==================================================================\n",
      "group1 group2   meandiff   p-adj     lower        upper     reject\n",
      "------------------------------------------------------------------\n",
      "     1      2  493300.4283    0.0   280551.364  706049.4925   True\n",
      "     1      3  594560.6868    0.0  385823.5787  803297.7949   True\n",
      "     1      4 1240418.9549    0.0 1021525.0421 1459312.8677   True\n",
      "     2      3  101260.2586 0.1409  -20367.8685  222888.3857  False\n",
      "     2      4  747118.5266    0.0   608782.826  885454.2273   True\n",
      "     3      4   645858.268    0.0  513775.7861    777940.75   True\n",
      "------------------------------------------------------------------\n"
     ]
    }
   ],
   "source": [
    "df_new = pd.concat([data1,data2,data3,data4])\n",
    "df_new.head(10)\n",
    "\n",
    "from statsmodels.stats.multicomp import pairwise_tukeyhsd\n",
    "\n",
    "posthoc = pairwise_tukeyhsd(df_new['loan_limit'], df_new['var'], alpha=0.05)\n",
    "print(posthoc)"
   ]
  }
 ],
 "metadata": {
  "kernelspec": {
   "display_name": "Python 3 (ipykernel)",
   "language": "python",
   "name": "python3"
  },
  "language_info": {
   "codemirror_mode": {
    "name": "ipython",
    "version": 3
   },
   "file_extension": ".py",
   "mimetype": "text/x-python",
   "name": "python",
   "nbconvert_exporter": "python",
   "pygments_lexer": "ipython3",
   "version": "3.9.12"
  }
 },
 "nbformat": 4,
 "nbformat_minor": 5
}
